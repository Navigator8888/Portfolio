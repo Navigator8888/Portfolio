{
 "cells": [
  {
   "cell_type": "code",
   "execution_count": 1,
   "id": "49df753a",
   "metadata": {
    "tags": [
     "aa81075c-062f-4de0-b5fe-14c73dc7468e"
    ]
   },
   "outputs": [],
   "source": [
    "import pandas as pd\n",
    "import numpy as np\n",
    "\n",
    "from sqlalchemy import create_engine"
   ]
  },
  {
   "cell_type": "code",
   "execution_count": 2,
   "id": "dd960554",
   "metadata": {},
   "outputs": [],
   "source": [
    "path_to_db = 'telecomm_csi.db'\n",
    "engine = create_engine(f'sqlite:///{path_to_db}', echo = False)"
   ]
  },
  {
   "cell_type": "code",
   "execution_count": 3,
   "id": "748f0d6b",
   "metadata": {},
   "outputs": [
    {
     "data": {
      "text/html": [
       "<div>\n",
       "<style scoped>\n",
       "    .dataframe tbody tr th:only-of-type {\n",
       "        vertical-align: middle;\n",
       "    }\n",
       "\n",
       "    .dataframe tbody tr th {\n",
       "        vertical-align: top;\n",
       "    }\n",
       "\n",
       "    .dataframe thead th {\n",
       "        text-align: right;\n",
       "    }\n",
       "</style>\n",
       "<table border=\"1\" class=\"dataframe\">\n",
       "  <thead>\n",
       "    <tr style=\"text-align: right;\">\n",
       "      <th></th>\n",
       "      <th>user_id</th>\n",
       "      <th>lt_day</th>\n",
       "      <th>is_new</th>\n",
       "      <th>age</th>\n",
       "      <th>gender_segment</th>\n",
       "      <th>os_name</th>\n",
       "      <th>cpe_type_name</th>\n",
       "      <th>country</th>\n",
       "      <th>city</th>\n",
       "      <th>age_segment</th>\n",
       "      <th>traffic_segment</th>\n",
       "      <th>lifetime_segment</th>\n",
       "      <th>nps_score</th>\n",
       "      <th>nps_score_group</th>\n",
       "    </tr>\n",
       "  </thead>\n",
       "  <tbody>\n",
       "    <tr>\n",
       "      <th>0</th>\n",
       "      <td>A001A2</td>\n",
       "      <td>2320</td>\n",
       "      <td>old</td>\n",
       "      <td>45.0</td>\n",
       "      <td>мужчина</td>\n",
       "      <td>ANDROID</td>\n",
       "      <td>SMARTPHONE</td>\n",
       "      <td>Россия</td>\n",
       "      <td>Уфа</td>\n",
       "      <td>45-54</td>\n",
       "      <td>1-5</td>\n",
       "      <td>36+</td>\n",
       "      <td>10</td>\n",
       "      <td>cторонники</td>\n",
       "    </tr>\n",
       "    <tr>\n",
       "      <th>1</th>\n",
       "      <td>A001WF</td>\n",
       "      <td>2344</td>\n",
       "      <td>old</td>\n",
       "      <td>53.0</td>\n",
       "      <td>женщина</td>\n",
       "      <td>ANDROID</td>\n",
       "      <td>SMARTPHONE</td>\n",
       "      <td>Россия</td>\n",
       "      <td>Киров</td>\n",
       "      <td>45-54</td>\n",
       "      <td>1-5</td>\n",
       "      <td>36+</td>\n",
       "      <td>10</td>\n",
       "      <td>cторонники</td>\n",
       "    </tr>\n",
       "    <tr>\n",
       "      <th>2</th>\n",
       "      <td>A003Q7</td>\n",
       "      <td>467</td>\n",
       "      <td>old</td>\n",
       "      <td>57.0</td>\n",
       "      <td>женщина</td>\n",
       "      <td>ANDROID</td>\n",
       "      <td>SMARTPHONE</td>\n",
       "      <td>Россия</td>\n",
       "      <td>Москва</td>\n",
       "      <td>55-64</td>\n",
       "      <td>20-25</td>\n",
       "      <td>13-24</td>\n",
       "      <td>10</td>\n",
       "      <td>cторонники</td>\n",
       "    </tr>\n",
       "    <tr>\n",
       "      <th>3</th>\n",
       "      <td>A004TB</td>\n",
       "      <td>4190</td>\n",
       "      <td>old</td>\n",
       "      <td>44.0</td>\n",
       "      <td>мужчина</td>\n",
       "      <td>IOS</td>\n",
       "      <td>SMARTPHONE</td>\n",
       "      <td>Россия</td>\n",
       "      <td>РостовнаДону</td>\n",
       "      <td>35-44</td>\n",
       "      <td>0.1-1</td>\n",
       "      <td>36+</td>\n",
       "      <td>10</td>\n",
       "      <td>cторонники</td>\n",
       "    </tr>\n",
       "    <tr>\n",
       "      <th>4</th>\n",
       "      <td>A004XT</td>\n",
       "      <td>1163</td>\n",
       "      <td>old</td>\n",
       "      <td>24.0</td>\n",
       "      <td>женщина</td>\n",
       "      <td>ANDROID</td>\n",
       "      <td>SMARTPHONE</td>\n",
       "      <td>Россия</td>\n",
       "      <td>Рязань</td>\n",
       "      <td>16-24</td>\n",
       "      <td>5-10</td>\n",
       "      <td>36+</td>\n",
       "      <td>10</td>\n",
       "      <td>cторонники</td>\n",
       "    </tr>\n",
       "  </tbody>\n",
       "</table>\n",
       "</div>"
      ],
      "text/plain": [
       "  user_id  lt_day is_new   age gender_segment  os_name cpe_type_name country  \\\n",
       "0  A001A2    2320    old  45.0        мужчина  ANDROID    SMARTPHONE  Россия   \n",
       "1  A001WF    2344    old  53.0        женщина  ANDROID    SMARTPHONE  Россия   \n",
       "2  A003Q7     467    old  57.0        женщина  ANDROID    SMARTPHONE  Россия   \n",
       "3  A004TB    4190    old  44.0        мужчина      IOS    SMARTPHONE  Россия   \n",
       "4  A004XT    1163    old  24.0        женщина  ANDROID    SMARTPHONE  Россия   \n",
       "\n",
       "           city age_segment traffic_segment lifetime_segment  nps_score  \\\n",
       "0           Уфа       45-54             1-5              36+         10   \n",
       "1         Киров       45-54             1-5              36+         10   \n",
       "2        Москва       55-64           20-25            13-24         10   \n",
       "3  РостовнаДону       35-44           0.1-1              36+         10   \n",
       "4        Рязань       16-24            5-10              36+         10   \n",
       "\n",
       "  nps_score_group  \n",
       "0      cторонники  \n",
       "1      cторонники  \n",
       "2      cторонники  \n",
       "3      cторонники  \n",
       "4      cторонники  "
      ]
     },
     "execution_count": 3,
     "metadata": {},
     "output_type": "execute_result"
    }
   ],
   "source": [
    "query = \"\"\"\n",
    "    SELECT u.user_id,\n",
    "           u.lt_day AS lt_day,\n",
    "           CASE\n",
    "               WHEN u.lt_day < 365 THEN 'new'\n",
    "               ELSE 'old'\n",
    "           END AS is_new,\n",
    "           u.age,\n",
    "           CASE\n",
    "               WHEN u.gender_segment = 0 THEN 'женщина'\n",
    "               WHEN u.gender_segment = 1 THEN 'мужчина'\n",
    "               ELSE 'без пола'\n",
    "           END AS gender_segment,\n",
    "           u.os_name,\n",
    "           u.cpe_type_name,\n",
    "           l.country,\n",
    "           l.city,\n",
    "           SUBSTR(ags.title, 4, 5) AS age_segment,\n",
    "           SUBSTR(ts.title, 4, 8) AS traffic_segment,\n",
    "           SUBSTR(ls.title, 4, 8) AS lifetime_segment,\n",
    "           u.nps_score,\n",
    "           CASE\n",
    "               WHEN u.nps_score >= 9 THEN 'cторонники'\n",
    "               WHEN u.nps_score <= 6 THEN 'критики'\n",
    "               ELSE 'нейтралы'\n",
    "           END AS nps_score_group\n",
    "          \n",
    "    FROM user AS u\n",
    "    JOIN location AS l ON u.location_id=l.location_id\n",
    "    JOIN age_segment AS ags ON u.age_gr_id=ags.age_gr_id\n",
    "    JOIN traffic_segment AS ts ON u.tr_gr_id=ts.tr_gr_id\n",
    "    JOIN lifetime_segment AS ls ON u.lt_gr_id=ls.lt_gr_id\n",
    "    WHERE CAST(lt_day AS INTEGER) > 0;\n",
    "   \n",
    "\"\"\"\n",
    " \n",
    "df = pd.read_sql(query, engine)\n",
    "df.head()"
   ]
  },
  {
   "cell_type": "code",
   "execution_count": 4,
   "id": "f4f59032",
   "metadata": {},
   "outputs": [],
   "source": [
    "df.to_csv('telecomm_csi_tableau.csv', index=False)"
   ]
  },
  {
   "cell_type": "code",
   "execution_count": 5,
   "id": "a076d9b2",
   "metadata": {
    "scrolled": false
   },
   "outputs": [
    {
     "data": {
      "text/html": [
       "<div>\n",
       "<style scoped>\n",
       "    .dataframe tbody tr th:only-of-type {\n",
       "        vertical-align: middle;\n",
       "    }\n",
       "\n",
       "    .dataframe tbody tr th {\n",
       "        vertical-align: top;\n",
       "    }\n",
       "\n",
       "    .dataframe thead th {\n",
       "        text-align: right;\n",
       "    }\n",
       "</style>\n",
       "<table border=\"1\" class=\"dataframe\">\n",
       "  <thead>\n",
       "    <tr style=\"text-align: right;\">\n",
       "      <th></th>\n",
       "      <th>user_id</th>\n",
       "      <th>lt_day</th>\n",
       "      <th>is_new</th>\n",
       "      <th>age</th>\n",
       "      <th>gender_segment</th>\n",
       "      <th>os_name</th>\n",
       "      <th>cpe_type_name</th>\n",
       "      <th>country</th>\n",
       "      <th>city</th>\n",
       "      <th>age_segment</th>\n",
       "      <th>traffic_segment</th>\n",
       "      <th>lifetime_segment</th>\n",
       "      <th>nps_score</th>\n",
       "      <th>nps_score_group</th>\n",
       "    </tr>\n",
       "  </thead>\n",
       "  <tbody>\n",
       "    <tr>\n",
       "      <th>0</th>\n",
       "      <td>A001A2</td>\n",
       "      <td>2320</td>\n",
       "      <td>old</td>\n",
       "      <td>45.0</td>\n",
       "      <td>мужчина</td>\n",
       "      <td>ANDROID</td>\n",
       "      <td>SMARTPHONE</td>\n",
       "      <td>Россия</td>\n",
       "      <td>Уфа</td>\n",
       "      <td>45-54</td>\n",
       "      <td>1-5</td>\n",
       "      <td>36+</td>\n",
       "      <td>10</td>\n",
       "      <td>cторонники</td>\n",
       "    </tr>\n",
       "    <tr>\n",
       "      <th>1</th>\n",
       "      <td>A001WF</td>\n",
       "      <td>2344</td>\n",
       "      <td>old</td>\n",
       "      <td>53.0</td>\n",
       "      <td>женщина</td>\n",
       "      <td>ANDROID</td>\n",
       "      <td>SMARTPHONE</td>\n",
       "      <td>Россия</td>\n",
       "      <td>Киров</td>\n",
       "      <td>45-54</td>\n",
       "      <td>1-5</td>\n",
       "      <td>36+</td>\n",
       "      <td>10</td>\n",
       "      <td>cторонники</td>\n",
       "    </tr>\n",
       "    <tr>\n",
       "      <th>2</th>\n",
       "      <td>A003Q7</td>\n",
       "      <td>467</td>\n",
       "      <td>old</td>\n",
       "      <td>57.0</td>\n",
       "      <td>женщина</td>\n",
       "      <td>ANDROID</td>\n",
       "      <td>SMARTPHONE</td>\n",
       "      <td>Россия</td>\n",
       "      <td>Москва</td>\n",
       "      <td>55-64</td>\n",
       "      <td>20-25</td>\n",
       "      <td>13-24</td>\n",
       "      <td>10</td>\n",
       "      <td>cторонники</td>\n",
       "    </tr>\n",
       "  </tbody>\n",
       "</table>\n",
       "</div>"
      ],
      "text/plain": [
       "  user_id  lt_day is_new   age gender_segment  os_name cpe_type_name country  \\\n",
       "0  A001A2    2320    old  45.0        мужчина  ANDROID    SMARTPHONE  Россия   \n",
       "1  A001WF    2344    old  53.0        женщина  ANDROID    SMARTPHONE  Россия   \n",
       "2  A003Q7     467    old  57.0        женщина  ANDROID    SMARTPHONE  Россия   \n",
       "\n",
       "     city age_segment traffic_segment lifetime_segment  nps_score  \\\n",
       "0     Уфа       45-54             1-5              36+         10   \n",
       "1   Киров       45-54             1-5              36+         10   \n",
       "2  Москва       55-64           20-25            13-24         10   \n",
       "\n",
       "  nps_score_group  \n",
       "0      cторонники  \n",
       "1      cторонники  \n",
       "2      cторонники  "
      ]
     },
     "execution_count": 5,
     "metadata": {},
     "output_type": "execute_result"
    }
   ],
   "source": [
    "df.head(3)"
   ]
  },
  {
   "cell_type": "code",
   "execution_count": 6,
   "id": "d300038e",
   "metadata": {},
   "outputs": [
    {
     "name": "stdout",
     "output_type": "stream",
     "text": [
      "<class 'pandas.core.frame.DataFrame'>\n",
      "RangeIndex: 502476 entries, 0 to 502475\n",
      "Data columns (total 14 columns):\n",
      " #   Column            Non-Null Count   Dtype  \n",
      "---  ------            --------------   -----  \n",
      " 0   user_id           502476 non-null  object \n",
      " 1   lt_day            502476 non-null  int64  \n",
      " 2   is_new            502476 non-null  object \n",
      " 3   age               501939 non-null  float64\n",
      " 4   gender_segment    502476 non-null  object \n",
      " 5   os_name           502476 non-null  object \n",
      " 6   cpe_type_name     502476 non-null  object \n",
      " 7   country           502476 non-null  object \n",
      " 8   city              502476 non-null  object \n",
      " 9   age_segment       502476 non-null  object \n",
      " 10  traffic_segment   502476 non-null  object \n",
      " 11  lifetime_segment  502476 non-null  object \n",
      " 12  nps_score         502476 non-null  int64  \n",
      " 13  nps_score_group   502476 non-null  object \n",
      "dtypes: float64(1), int64(2), object(11)\n",
      "memory usage: 53.7+ MB\n"
     ]
    }
   ],
   "source": [
    "df.info()"
   ]
  },
  {
   "cell_type": "markdown",
   "id": "66eccab9",
   "metadata": {},
   "source": [
    "### Укажите ссылку на дашборд на сайте Tableau Public:"
   ]
  },
  {
   "cell_type": "markdown",
   "id": "d47c8984",
   "metadata": {},
   "source": []
  },
  {
   "cell_type": "markdown",
   "id": "711b9187",
   "metadata": {},
   "source": [
    "### Укажите ссылку на pdf-файл с презентацией:"
   ]
  },
  {
   "cell_type": "markdown",
   "id": "c9da270d",
   "metadata": {},
   "source": []
  }
 ],
 "metadata": {
  "ExecuteTimeLog": [
   {
    "duration": 752,
    "start_time": "2021-10-03T17:40:52.731Z"
   },
   {
    "duration": 20,
    "start_time": "2021-10-03T17:40:53.486Z"
   },
   {
    "duration": 4,
    "start_time": "2021-10-03T17:41:04.638Z"
   },
   {
    "duration": 461,
    "start_time": "2021-10-03T17:41:04.912Z"
   },
   {
    "duration": 284,
    "start_time": "2021-10-03T17:41:05.376Z"
   },
   {
    "duration": 574,
    "start_time": "2021-10-06T07:55:05.029Z"
   },
   {
    "duration": 6,
    "start_time": "2021-10-06T07:55:05.605Z"
   },
   {
    "duration": 3,
    "start_time": "2021-10-06T07:55:14.685Z"
   },
   {
    "duration": 406,
    "start_time": "2021-10-06T07:55:15.522Z"
   },
   {
    "duration": 67,
    "start_time": "2021-10-06T07:55:15.929Z"
   },
   {
    "duration": 840,
    "start_time": "2021-10-07T07:54:04.647Z"
   },
   {
    "duration": 10,
    "start_time": "2021-10-07T07:54:05.490Z"
   },
   {
    "duration": 4,
    "start_time": "2021-10-07T07:54:05.544Z"
   },
   {
    "duration": 391,
    "start_time": "2021-10-07T07:54:06.237Z"
   },
   {
    "duration": 293,
    "start_time": "2021-10-07T07:54:06.654Z"
   },
   {
    "duration": 46,
    "start_time": "2023-01-09T08:55:41.852Z"
   },
   {
    "duration": 600,
    "start_time": "2023-01-09T08:55:54.551Z"
   },
   {
    "duration": 24,
    "start_time": "2023-01-09T08:55:55.154Z"
   },
   {
    "duration": 3,
    "start_time": "2023-01-09T08:55:55.179Z"
   },
   {
    "duration": 243,
    "start_time": "2023-01-09T08:55:55.183Z"
   },
   {
    "duration": 95,
    "start_time": "2023-01-09T08:55:55.429Z"
   },
   {
    "duration": 50,
    "start_time": "2023-01-09T08:55:59.505Z"
   },
   {
    "duration": 12,
    "start_time": "2023-01-09T08:56:32.611Z"
   },
   {
    "duration": 2,
    "start_time": "2023-01-09T09:25:35.819Z"
   },
   {
    "duration": 3063,
    "start_time": "2023-01-09T09:26:26.815Z"
   },
   {
    "duration": 3,
    "start_time": "2023-01-09T09:27:45.149Z"
   },
   {
    "duration": 3266,
    "start_time": "2023-01-09T09:27:46.180Z"
   },
   {
    "duration": 4,
    "start_time": "2023-01-09T10:13:16.620Z"
   },
   {
    "duration": 3,
    "start_time": "2023-01-09T10:13:19.927Z"
   },
   {
    "duration": 3271,
    "start_time": "2023-01-09T10:13:21.875Z"
   },
   {
    "duration": 561,
    "start_time": "2023-01-09T10:17:28.220Z"
   },
   {
    "duration": 8,
    "start_time": "2023-01-09T10:17:28.784Z"
   },
   {
    "duration": 3,
    "start_time": "2023-01-09T10:17:28.794Z"
   },
   {
    "duration": 3042,
    "start_time": "2023-01-09T10:17:28.798Z"
   },
   {
    "duration": 0,
    "start_time": "2023-01-09T10:17:31.842Z"
   },
   {
    "duration": 2868,
    "start_time": "2023-01-09T10:17:44.547Z"
   },
   {
    "duration": 2,
    "start_time": "2023-01-09T10:18:37.321Z"
   },
   {
    "duration": 209,
    "start_time": "2023-01-09T10:18:38.425Z"
   },
   {
    "duration": 574,
    "start_time": "2023-01-09T10:18:50.735Z"
   },
   {
    "duration": 10,
    "start_time": "2023-01-09T10:18:51.311Z"
   },
   {
    "duration": 5,
    "start_time": "2023-01-09T10:18:51.322Z"
   },
   {
    "duration": 272,
    "start_time": "2023-01-09T10:18:51.328Z"
   },
   {
    "duration": 0,
    "start_time": "2023-01-09T10:18:51.601Z"
   },
   {
    "duration": 216,
    "start_time": "2023-01-09T10:25:08.641Z"
   },
   {
    "duration": 2,
    "start_time": "2023-01-09T11:17:02.299Z"
   },
   {
    "duration": 3092,
    "start_time": "2023-01-09T11:17:03.539Z"
   },
   {
    "duration": 2,
    "start_time": "2023-01-09T11:17:49.827Z"
   },
   {
    "duration": 260,
    "start_time": "2023-01-09T11:17:55.091Z"
   },
   {
    "duration": 70,
    "start_time": "2023-01-09T11:24:29.179Z"
   },
   {
    "duration": 15,
    "start_time": "2023-01-09T11:25:13.519Z"
   }
  ],
  "kernelspec": {
   "display_name": "Python 3 (ipykernel)",
   "language": "python",
   "name": "python3"
  },
  "language_info": {
   "codemirror_mode": {
    "name": "ipython",
    "version": 3
   },
   "file_extension": ".py",
   "mimetype": "text/x-python",
   "name": "python",
   "nbconvert_exporter": "python",
   "pygments_lexer": "ipython3",
   "version": "3.9.12"
  },
  "toc": {
   "base_numbering": 1,
   "nav_menu": {},
   "number_sections": true,
   "sideBar": true,
   "skip_h1_title": true,
   "title_cell": "Table of Contents",
   "title_sidebar": "Contents",
   "toc_cell": false,
   "toc_position": {},
   "toc_section_display": true,
   "toc_window_display": false
  }
 },
 "nbformat": 4,
 "nbformat_minor": 5
}
